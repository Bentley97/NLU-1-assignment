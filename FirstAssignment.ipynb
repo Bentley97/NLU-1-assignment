{
  "nbformat": 4,
  "nbformat_minor": 0,
  "metadata": {
    "colab": {
      "name": "FirstAssignment.ipynb",
      "provenance": [],
      "authorship_tag": "ABX9TyM5W7GIYCPB4EnEbnbInlr8",
      "include_colab_link": true
    },
    "kernelspec": {
      "name": "python3",
      "display_name": "Python 3"
    },
    "language_info": {
      "name": "python"
    }
  },
  "cells": [
    {
      "cell_type": "markdown",
      "metadata": {
        "id": "view-in-github",
        "colab_type": "text"
      },
      "source": [
        "<a href=\"https://colab.research.google.com/github/Bentley97/NLU_First_assignment/blob/main/FirstAssignment.ipynb\" target=\"_parent\"><img src=\"https://colab.research.google.com/assets/colab-badge.svg\" alt=\"Open In Colab\"/></a>"
      ]
    },
    {
      "cell_type": "code",
      "metadata": {
        "colab": {
          "base_uri": "https://localhost:8080/"
        },
        "id": "KrW5gUJBRAlr",
        "outputId": "a0d285f1-2fdf-41d9-a36a-0d5f36781bf6"
      },
      "source": [
        "import spacy\n",
        "\n",
        "test_sentece = \"I saw a man with a telescope\"\n",
        "\n",
        "nlp = spacy.load('en_core_web_sm')\n",
        "doc = nlp(test_sentece)\n",
        "\n",
        "print(test_sentece)\n",
        "\n",
        "for sent in spacy_doc.sents:\n",
        "    for token in sent:\n",
        "        print(\"{}\\t{}\\t{}\\t{}\".format(token.i, token.text, token.head, token.dep_))"
      ],
      "execution_count": 6,
      "outputs": [
        {
          "output_type": "stream",
          "text": [
            "I saw a man with a telescope\n",
            "0\tI\tsaw\tnsubj\n",
            "1\tsaw\tsaw\tROOT\n",
            "2\ta\tman\tdet\n",
            "3\tman\tsaw\tdobj\n",
            "4\twith\tman\tprep\n",
            "5\ta\ttelescope\tdet\n",
            "6\ttelescope\twith\tpobj\n"
          ],
          "name": "stdout"
        }
      ]
    },
    {
      "cell_type": "code",
      "metadata": {
        "id": "14nr277DWd0n"
      },
      "source": [
        ""
      ],
      "execution_count": null,
      "outputs": []
    }
  ]
}