{
  "nbformat": 4,
  "nbformat_minor": 0,
  "metadata": {
    "colab": {
      "name": "FirstAssignment.ipynb",
      "provenance": [],
      "authorship_tag": "ABX9TyOnz5RQDE9Uk9W1alg3Jf+p",
      "include_colab_link": true
    },
    "kernelspec": {
      "name": "python3",
      "display_name": "Python 3"
    },
    "language_info": {
      "name": "python"
    }
  },
  "cells": [
    {
      "cell_type": "markdown",
      "metadata": {
        "id": "view-in-github",
        "colab_type": "text"
      },
      "source": [
        "<a href=\"https://colab.research.google.com/github/Bentley97/NLU_First_assignment/blob/main/FirstAssignment.ipynb\" target=\"_parent\"><img src=\"https://colab.research.google.com/assets/colab-badge.svg\" alt=\"Open In Colab\"/></a>"
      ]
    },
    {
      "cell_type": "code",
      "metadata": {
        "id": "JrieWP0k6tnq"
      },
      "source": [
        "import spacy\n",
        "\n",
        "test_sentence = \"I saw a man with a telescope\""
      ],
      "execution_count": 29,
      "outputs": []
    },
    {
      "cell_type": "markdown",
      "metadata": {
        "id": "7-PkeTbma8yZ"
      },
      "source": [
        "**FUNCTION 1**"
      ]
    },
    {
      "cell_type": "code",
      "metadata": {
        "id": "kq4wKemN6MTT"
      },
      "source": [
        "def extract_dependency_path(sentence):\n",
        "  nlp = spacy.load('en_core_web_sm')\n",
        "  doc = nlp(sentence)\n",
        "\n",
        "  paths = []\n",
        "\n",
        "  for token in doc:\n",
        "    token_path = []\n",
        "\n",
        "    while token != token.head:  #we can use also (token != token.sent.root)\n",
        "      token_path.insert(0, token.text)\n",
        "      #token_path.insert(0, \"goes with dep '\"+token.dep_+\"' in\")\n",
        "      token_path.insert(0, \"--\"+token.dep_+\"->\")\n",
        "      token = token.head\n",
        "\n",
        "    token_path.insert(0, token.text)\n",
        "    #token_path.insert(0, \"goes with dep '\"+token.dep_+\"' in\")\n",
        "    token_path.insert(0, \"--\"+token.dep_+\"->\")\n",
        "    token_path.insert(0, \"ROOT\")\n",
        "    paths.append(token_path)\n",
        "  \n",
        "  return paths\n"
      ],
      "execution_count": 33,
      "outputs": []
    },
    {
      "cell_type": "code",
      "metadata": {
        "colab": {
          "base_uri": "https://localhost:8080/"
        },
        "id": "eUhfyCNlaqps",
        "outputId": "5b0f3322-7714-4575-d449-8480930140a5"
      },
      "source": [
        "### TEST ###\n",
        "dep_paths = extract_dependency_path(test_sentece)\n",
        "\n",
        "for p in dep_paths:\n",
        "  print(p)"
      ],
      "execution_count": 34,
      "outputs": [
        {
          "output_type": "stream",
          "text": [
            "['ROOT', '--ROOT->', 'saw', '--nsubj->', 'I']\n",
            "['ROOT', '--ROOT->', 'saw']\n",
            "['ROOT', '--ROOT->', 'saw', '--dobj->', 'man', '--det->', 'a']\n",
            "['ROOT', '--ROOT->', 'saw', '--dobj->', 'man']\n",
            "['ROOT', '--ROOT->', 'saw', '--dobj->', 'man', '--prep->', 'with']\n",
            "['ROOT', '--ROOT->', 'saw', '--dobj->', 'man', '--prep->', 'with', '--pobj->', 'telescope', '--det->', 'a']\n",
            "['ROOT', '--ROOT->', 'saw', '--dobj->', 'man', '--prep->', 'with', '--pobj->', 'telescope']\n"
          ],
          "name": "stdout"
        }
      ]
    },
    {
      "cell_type": "markdown",
      "metadata": {
        "id": "pY7NFqi-ayhp"
      },
      "source": [
        "**FUNCTION 2**"
      ]
    },
    {
      "cell_type": "code",
      "metadata": {
        "id": "-Ne2jh62axs8"
      },
      "source": [
        ""
      ],
      "execution_count": null,
      "outputs": []
    },
    {
      "cell_type": "code",
      "metadata": {
        "colab": {
          "base_uri": "https://localhost:8080/"
        },
        "id": "KrW5gUJBRAlr",
        "outputId": "0b8bbe84-38e8-4aef-b839-0fc7a6ceba65"
      },
      "source": [
        "import spacy\n",
        "\n",
        "test_sentece = \"I saw a man with a telescope\"\n",
        "\n",
        "nlp = spacy.load('en_core_web_sm')\n",
        "doc = nlp(test_sentece)\n",
        "\n",
        "print(test_sentece)\n",
        "\n",
        "#for sent in doc.sents:\n",
        "    #for token in sent:\n",
        "        #print(\"{}\\t{}\\t{}\\t{}\\t{}\".format(token.i, token.text, token.head, token.dep_, sent.))\n",
        "        \n",
        "for token in doc:\n",
        "  print(\"{}\\t{}\\t{}\\t{}\\t{}\".format(token.i, token.text, token.head, token.dep_, token))\n"
      ],
      "execution_count": 22,
      "outputs": [
        {
          "output_type": "stream",
          "text": [
            "I saw a man with a telescope\n",
            "0\tI\tsaw\tnsubj\tI\n",
            "1\tsaw\tsaw\tROOT\tsaw\n",
            "2\ta\tman\tdet\ta\n",
            "3\tman\tsaw\tdobj\tman\n",
            "4\twith\tman\tprep\twith\n",
            "5\ta\ttelescope\tdet\ta\n",
            "6\ttelescope\twith\tpobj\ttelescope\n"
          ],
          "name": "stdout"
        }
      ]
    }
  ]
}