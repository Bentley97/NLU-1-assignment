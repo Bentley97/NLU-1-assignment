{
  "nbformat": 4,
  "nbformat_minor": 0,
  "metadata": {
    "colab": {
      "name": "FirstAssignment.ipynb",
      "provenance": [],
      "authorship_tag": "ABX9TyNjn5Omu3JooR4ai+LdRhJC",
      "include_colab_link": true
    },
    "kernelspec": {
      "name": "python3",
      "display_name": "Python 3"
    },
    "language_info": {
      "name": "python"
    }
  },
  "cells": [
    {
      "cell_type": "markdown",
      "metadata": {
        "id": "view-in-github",
        "colab_type": "text"
      },
      "source": [
        "<a href=\"https://colab.research.google.com/github/Bentley97/NLU_First_assignment/blob/main/FirstAssignment.ipynb\" target=\"_parent\"><img src=\"https://colab.research.google.com/assets/colab-badge.svg\" alt=\"Open In Colab\"/></a>"
      ]
    },
    {
      "cell_type": "code",
      "metadata": {
        "id": "JrieWP0k6tnq"
      },
      "source": [
        "import spacy\n",
        "\n",
        "test_sentence = \"I saw a man with a telescope\"\n",
        "\n",
        "nlp = spacy.load('en_core_web_sm')"
      ],
      "execution_count": 29,
      "outputs": []
    },
    {
      "cell_type": "markdown",
      "metadata": {
        "id": "7-PkeTbma8yZ"
      },
      "source": [
        "**FUNCTION 1**"
      ]
    },
    {
      "cell_type": "code",
      "metadata": {
        "id": "kq4wKemN6MTT"
      },
      "source": [
        "def extract_dependency_path(sentence):\n",
        "  doc = nlp(sentence)\n",
        "\n",
        "  paths = []\n",
        "\n",
        "  for token in doc:\n",
        "    token_path = []\n",
        "\n",
        "    while token != token.head:  #we can use also (token != token.sent.root)\n",
        "      token_path.insert(0, token.text)\n",
        "      #token_path.insert(0, \"goes with dep '\"+token.dep_+\"' in\")\n",
        "      token_path.insert(0, \"--\"+token.dep_+\"->\")\n",
        "      token = token.head\n",
        "\n",
        "    token_path.insert(0, token.text)\n",
        "    #token_path.insert(0, \"goes with dep '\"+token.dep_+\"' in\")\n",
        "    token_path.insert(0, \"--\"+token.dep_+\"->\")\n",
        "    token_path.insert(0, \"ROOT\")\n",
        "    paths.append(token_path)\n",
        "  \n",
        "  return paths\n"
      ],
      "execution_count": 33,
      "outputs": []
    },
    {
      "cell_type": "code",
      "metadata": {
        "colab": {
          "base_uri": "https://localhost:8080/"
        },
        "id": "eUhfyCNlaqps",
        "outputId": "cfcc5a76-2ac6-4fbb-b881-cc938eccaf79"
      },
      "source": [
        "### TEST ###\n",
        "dep_paths = extract_dependency_path(test_sentece)\n",
        "\n",
        "for dep_path in dep_paths:\n",
        "  print(\"The dependency path for token '{}'\\tis:\\t{}\".format(dep_path[-1],dep_path).expandtabs(15))\n"
      ],
      "execution_count": 56,
      "outputs": [
        {
          "output_type": "stream",
          "text": [
            "The dependency path for token 'I'            is:            ['ROOT', '--ROOT->', 'saw', '--nsubj->', 'I']\n",
            "The dependency path for token 'saw'          is:            ['ROOT', '--ROOT->', 'saw']\n",
            "The dependency path for token 'a'            is:            ['ROOT', '--ROOT->', 'saw', '--dobj->', 'man', '--det->', 'a']\n",
            "The dependency path for token 'man'          is:            ['ROOT', '--ROOT->', 'saw', '--dobj->', 'man']\n",
            "The dependency path for token 'with'         is:            ['ROOT', '--ROOT->', 'saw', '--dobj->', 'man', '--prep->', 'with']\n",
            "The dependency path for token 'a'            is:            ['ROOT', '--ROOT->', 'saw', '--dobj->', 'man', '--prep->', 'with', '--pobj->', 'telescope', '--det->', 'a']\n",
            "The dependency path for token 'telescope'    is:            ['ROOT', '--ROOT->', 'saw', '--dobj->', 'man', '--prep->', 'with', '--pobj->', 'telescope']\n"
          ],
          "name": "stdout"
        }
      ]
    },
    {
      "cell_type": "markdown",
      "metadata": {
        "id": "pY7NFqi-ayhp"
      },
      "source": [
        "**FUNCTION 2**"
      ]
    },
    {
      "cell_type": "code",
      "metadata": {
        "id": "-Ne2jh62axs8"
      },
      "source": [
        "def extract_subtrees(sentence):\n",
        "  doc = nlp(sentence)\n",
        "\n",
        "  result = []\n",
        "  \n",
        "  for token in doc:\n",
        "    subtree_list = []\n",
        "    for element in token.subtree:\n",
        "      if element != token:\n",
        "        subtree_list.append(element)\n",
        "    result.append([token, subtree_list])\n",
        "\n",
        "  return result  #returns a list of elements, each composed by the token and the list of its dependents in its subtree(without himself) ordered w.r.t. sentence order  (usare elenco puntato per spiegare meglio)"
      ],
      "execution_count": 90,
      "outputs": []
    },
    {
      "cell_type": "code",
      "metadata": {
        "colab": {
          "base_uri": "https://localhost:8080/"
        },
        "id": "IodsDpSjnpeN",
        "outputId": "8a612ae0-064d-440b-ac5c-50ef33656729"
      },
      "source": [
        "subtrees = extract_subtrees(test_sentence)\n",
        "\n",
        "for t,s in subtrees:\n",
        "  #print(s)\n",
        "  print(\"Token: {}\\t{}\".format(t,s).expandtabs(20))"
      ],
      "execution_count": 91,
      "outputs": [
        {
          "output_type": "stream",
          "text": [
            "Token: I            []\n",
            "Token: saw          [I, a, man, with, a, telescope]\n",
            "Token: a            []\n",
            "Token: man          [a, with, a, telescope]\n",
            "Token: with         [a, telescope]\n",
            "Token: a            []\n",
            "Token: telescope    [a]\n"
          ],
          "name": "stdout"
        }
      ]
    },
    {
      "cell_type": "markdown",
      "metadata": {
        "id": "mg7vogKaqBoL"
      },
      "source": [
        "**FUNCTION 3**"
      ]
    },
    {
      "cell_type": "code",
      "metadata": {
        "id": "qzcZeoMrqE5P"
      },
      "source": [
        "def is_equal(tokenList, stringList):  #check equality between elements of a list of tokens and a list of strings\n",
        "  if len(tokenList) != len(stringList):\n",
        "    return False\n",
        "\n",
        "  for i in range(len(tokenList)):\n",
        "    if tokenList[i].text != stringList[i]:\n",
        "      return False\n",
        "  \n",
        "  return True\n",
        "\n",
        "def is_subtree(sentence, segment): #segment => ordered list of words from a sentence\n",
        "  doc = nlp(sentence)\n",
        "\n",
        "  for token in doc:\n",
        "    subtree = token.subtree\n",
        "    if(is_equal(list(subtree), segment)):\n",
        "        return True\n",
        "\n",
        "  return False"
      ],
      "execution_count": 162,
      "outputs": []
    },
    {
      "cell_type": "code",
      "metadata": {
        "colab": {
          "base_uri": "https://localhost:8080/"
        },
        "id": "EjSLuyZUvZl2",
        "outputId": "06c23caa-29e1-4f05-8745-18e9413a7b8a"
      },
      "source": [
        "input_segment = [\"a\",\"man\",\"with\",\"a\",\"telescope\"]\n",
        "input_segment2 = [\"a\",\"man\"]\n",
        "input_segment3 = [\"with\",\"a\",\"telescope\"]\n",
        "\n",
        "\n",
        "print(\"Sentence:\\t{}\".format(test_sentence))\n",
        "print(\"Segment:\\t{}\".format(input_segment3))\n",
        "print(is_subtree(test_sentence, input_segment3))\n",
        "\n",
        "\n",
        "#print(list(input_segment)==list(input_segment3))\n",
        "#print(type(input_segment))\n",
        "#print(is_subtree(test_sentence, input_segment))\n",
        "#print(is_subtree(test_sentence, input_segment2))"
      ],
      "execution_count": 186,
      "outputs": [
        {
          "output_type": "stream",
          "text": [
            "Sentence:\tI saw a man with a telescope\n",
            "Segment:\t['with', 'a', 'telescope']\n",
            "True\n"
          ],
          "name": "stdout"
        }
      ]
    },
    {
      "cell_type": "markdown",
      "metadata": {
        "id": "0Kgar-tpn3-F"
      },
      "source": [
        "**FUNCTION 4**"
      ]
    },
    {
      "cell_type": "code",
      "metadata": {
        "id": "VMNwSYyFn3hk"
      },
      "source": [
        "def get_head(span):     #identify head of a span\n",
        "  doc = nlp(span)\n",
        "\n",
        "  return [token for token in doc if token.head == token][0]   # the condition can be changed with (token.dep_ == 'ROOT')\n"
      ],
      "execution_count": 239,
      "outputs": []
    },
    {
      "cell_type": "code",
      "metadata": {
        "colab": {
          "base_uri": "https://localhost:8080/"
        },
        "id": "UexIDRuGxH9j",
        "outputId": "d37c5ef4-af4a-42c2-a66b-03052b7ec605"
      },
      "source": [
        "span1 = \"Give it to me! Right now.\"   #to test return single word \n",
        "print(get_head(span1))\n",
        "\n",
        "span2 = \"boowling water bad under down mountain\"\n",
        "print(get_head(span2))"
      ],
      "execution_count": 240,
      "outputs": [
        {
          "output_type": "stream",
          "text": [
            "Give\n",
            "water\n"
          ],
          "name": "stdout"
        }
      ]
    },
    {
      "cell_type": "markdown",
      "metadata": {
        "id": "6BObFGeUyhBc"
      },
      "source": [
        "**FUNCTION 5**"
      ]
    },
    {
      "cell_type": "code",
      "metadata": {
        "id": "yqSedXP7ygns"
      },
      "source": [
        "def extract_spans(sentence)\n",
        "  doc = nlp(sentence)\n",
        "\n",
        "  \n"
      ],
      "execution_count": null,
      "outputs": []
    },
    {
      "cell_type": "markdown",
      "metadata": {
        "id": "XsBodmhWXcfz"
      },
      "source": [
        "SPERIMENTAZIONE"
      ]
    },
    {
      "cell_type": "code",
      "metadata": {
        "colab": {
          "base_uri": "https://localhost:8080/"
        },
        "id": "KrW5gUJBRAlr",
        "outputId": "acd5b262-78b8-4f32-abe5-feab77b0b53c"
      },
      "source": [
        "import spacy\n",
        "\n",
        "#test_sentece = \"I saw a man with a telescope\"\n",
        "\n",
        "nlp = spacy.load('en_core_web_sm')\n",
        "doc = nlp(test_sentece)\n",
        "\n",
        "#print(list(doc[3].subtree))\n",
        "#print(input_segment)\n",
        "\n",
        "#print(is_equal(list(doc[3].subtree), input_segment))\n",
        "\n",
        "\n",
        "#print(test_sentece)\n",
        "\n",
        "doc2 = nlp(\"with telescope a I man saw\")\n",
        "\n",
        "for sent in doc2.sents:\n",
        "    for token in sent:\n",
        "        print(\"{}\\t{}\\t{}\\t{}\".format(token.i, token.text, token.head, token.dep_))\n",
        "        #if token.dep_ == 'ROOT':\n",
        "          #print(token)\n",
        "\n",
        "root = [token for token in doc2 if token.head == token]\n",
        "#print(root[0].text)\n",
        "\n",
        "        \n",
        "#for token in doc:\n",
        "  #print(\"{}\\t{}\\t{}\\t{}\\t{}\".format(token.i, token.text, token.head, token.dep_, token.subtree))\n",
        "\n",
        "#print(type(input_segment[0]))\n",
        "\n",
        "#print(doc[3])\n",
        "#sub = doc[3].subtree\n",
        "\n",
        "#print(type(doc[3].subtree))\n",
        "#print(type(list(str(doc[3].subtree))[0]))\n",
        "#print(list(doc[3].subtree))\n",
        "\n",
        "#print([e.text for e in doc[3].subtree])\n",
        "#print(list(str(doc[3].subtree)))\n",
        "#print(list(str(doc[3].subtree)) == input_segment)\n",
        "#for t in sub:\n",
        "  #print(t)\n"
      ],
      "execution_count": 210,
      "outputs": [
        {
          "output_type": "stream",
          "text": [
            "0\twith\tsaw\tprep\n",
            "1\ttelescope\twith\tpobj\n",
            "2\ta\tman\tdet\n",
            "3\tI\tman\tcompound\n",
            "4\tman\tsaw\tnsubj\n",
            "5\tsaw\tsaw\tROOT\n"
          ],
          "name": "stdout"
        }
      ]
    },
    {
      "cell_type": "code",
      "metadata": {
        "id": "UEcRNUY_6OQh"
      },
      "source": [
        ""
      ],
      "execution_count": null,
      "outputs": []
    }
  ]
}